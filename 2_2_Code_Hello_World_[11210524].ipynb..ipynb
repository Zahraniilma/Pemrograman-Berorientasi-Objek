{
 "cells": [
  {
   "cell_type": "code",
   "execution_count": 1,
   "id": "1d844122",
   "metadata": {},
   "outputs": [
    {
     "name": "stdout",
     "output_type": "stream",
     "text": [
      "Hello World\n"
     ]
    }
   ],
   "source": [
    "print (\"Hello World\")"
   ]
  },
  {
   "cell_type": "code",
   "execution_count": 2,
   "id": "6bdc9afe",
   "metadata": {},
   "outputs": [
    {
     "name": "stdout",
     "output_type": "stream",
     "text": [
      "Hello World\n",
      "6\n"
     ]
    }
   ],
   "source": [
    "print (\"Hello World\")\n",
    "print(5+1)"
   ]
  },
  {
   "cell_type": "code",
   "execution_count": 3,
   "id": "25b9c933",
   "metadata": {},
   "outputs": [
    {
     "name": "stdout",
     "output_type": "stream",
     "text": [
      "25\n"
     ]
    }
   ],
   "source": [
    "# Jawab Tugas Praktek 3.1 Nomor 1\n",
    "print ((10*2+5))"
   ]
  },
  {
   "cell_type": "code",
   "execution_count": 4,
   "id": "3e2b8393",
   "metadata": {},
   "outputs": [
    {
     "name": "stdout",
     "output_type": "stream",
     "text": [
      "2023 Aku kaya mulia\n"
     ]
    }
   ],
   "source": [
    "# Jawab Tugas Praktek 3.1 Nomor 2\n",
    "print ( \"2023 Aku kaya mulia\" )"
   ]
  },
  {
   "cell_type": "code",
   "execution_count": 5,
   "id": "cbb22db7",
   "metadata": {},
   "outputs": [
    {
     "name": "stdout",
     "output_type": "stream",
     "text": [
      "Zahrani Ilma Puspita\n"
     ]
    }
   ],
   "source": [
    "# Jawab Tugas Praktek 3.1 Nomor 3\n",
    "print ( \"Zahrani Ilma Puspita\")"
   ]
  }
 ],
 "metadata": {
  "kernelspec": {
   "display_name": "Python 3 (ipykernel)",
   "language": "python",
   "name": "python3"
  },
  "language_info": {
   "codemirror_mode": {
    "name": "ipython",
    "version": 3
   },
   "file_extension": ".py",
   "mimetype": "text/x-python",
   "name": "python",
   "nbconvert_exporter": "python",
   "pygments_lexer": "ipython3",
   "version": "3.9.12"
  }
 },
 "nbformat": 4,
 "nbformat_minor": 5
}
