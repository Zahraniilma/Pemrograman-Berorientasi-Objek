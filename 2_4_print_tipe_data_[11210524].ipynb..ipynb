{
 "cells": [
  {
   "cell_type": "code",
   "execution_count": 1,
   "id": "00089a1d",
   "metadata": {},
   "outputs": [
    {
     "name": "stdout",
     "output_type": "stream",
     "text": [
      "True\n"
     ]
    }
   ],
   "source": [
    "#Jawab Praktik 2.4.1\n",
    "# tipe data Boolean\n",
    "print(True)"
   ]
  },
  {
   "cell_type": "code",
   "execution_count": 2,
   "id": "d7cb3824",
   "metadata": {},
   "outputs": [
    {
     "name": "stdout",
     "output_type": "stream",
     "text": [
      "Mari belajar Python\n",
      "Belajar Python Sangat Dengan Mudah\n"
     ]
    }
   ],
   "source": [
    "# tipe data String\n",
    "print(\"Mari belajar Python\")\n",
    "print('Belajar Python Sangat Dengan Mudah')"
   ]
  },
  {
   "cell_type": "code",
   "execution_count": 3,
   "id": "f1cf2b42",
   "metadata": {},
   "outputs": [
    {
     "name": "stdout",
     "output_type": "stream",
     "text": [
      "20\n"
     ]
    }
   ],
   "source": [
    "# tipe data Integer\n",
    "print(20)"
   ]
  },
  {
   "cell_type": "code",
   "execution_count": 4,
   "id": "0e53f161",
   "metadata": {},
   "outputs": [
    {
     "name": "stdout",
     "output_type": "stream",
     "text": [
      "3.14\n"
     ]
    }
   ],
   "source": [
    "# tipe data Float\n",
    "print(3.14)"
   ]
  },
  {
   "cell_type": "code",
   "execution_count": 5,
   "id": "c03feb5d",
   "metadata": {},
   "outputs": [
    {
     "name": "stdout",
     "output_type": "stream",
     "text": [
      "[1, 2, 3, 4, 5]\n",
      "['satu', 'dua', 'tiga']\n"
     ]
    }
   ],
   "source": [
    "# tipe data List\n",
    "print([1,2,3,4,5])\n",
    "print([\"satu\", \"dua\", \"tiga\"])"
   ]
  },
  {
   "cell_type": "code",
   "execution_count": 6,
   "id": "c2a5a06d",
   "metadata": {},
   "outputs": [
    {
     "name": "stdout",
     "output_type": "stream",
     "text": [
      "(1, 2, 3, 4, 5)\n",
      "('satu', 'dua', 'tiga')\n"
     ]
    }
   ],
   "source": [
    "# tipe data Tuple\n",
    "print((1,2,3,4,5))\n",
    "print((\"satu\", \"dua\", \"tiga\"))"
   ]
  },
  {
   "cell_type": "code",
   "execution_count": 7,
   "id": "253af24d",
   "metadata": {},
   "outputs": [
    {
     "name": "stdout",
     "output_type": "stream",
     "text": [
      "{'nama': 'Budi', 'umur': 20}\n"
     ]
    }
   ],
   "source": [
    "# tipe data Dictionary\n",
    "print({\"nama\":\"Budi\", 'umur':20})"
   ]
  },
  {
   "cell_type": "code",
   "execution_count": 8,
   "id": "3056cb43",
   "metadata": {},
   "outputs": [
    {
     "name": "stdout",
     "output_type": "stream",
     "text": [
      "{'nama': 'Andi', 'umur': 21}\n"
     ]
    },
    {
     "data": {
      "text/plain": [
       "dict"
      ]
     },
     "execution_count": 8,
     "metadata": {},
     "output_type": "execute_result"
    }
   ],
   "source": [
    "# tipe data Dictionary dimasukan ke dalam variabel biodata\n",
    "biodata = {\"nama\":\"Andi\", 'umur':21} #proses inisialisasi variabel biodata\n",
    "print(biodata) #proses pencetakan variabel biodata yang berisi tipe data Dictionary\n",
    "type(biodata) #fungsi untuk mengecek jenis tipe data. akan tampil <class 'dict'>"
   ]
  },
  {
   "cell_type": "code",
   "execution_count": 9,
   "id": "4892b437",
   "metadata": {},
   "outputs": [
    {
     "name": "stdout",
     "output_type": "stream",
     "text": [
      "Mari Belajar Python\n",
      "10\n",
      "3.14\n",
      "[1, 2, 3, 4]\n",
      "('satu', 'dua', 'tiga')\n",
      "{'nama': 'Ali', 'umur': 20}\n"
     ]
    }
   ],
   "source": [
    "#Jawab Tugas Praktek 3.3 Nomor 1\n",
    "var_string=\"Mari Belajar Python\"\n",
    "var_int=10\n",
    "var_float=3.14\n",
    "var_list=[1,2,3,4]\n",
    "var_tuple=(\"satu\",\"dua\",\"tiga\")\n",
    "var_dict={\"nama\":\"Ali\", 'umur':20}\n",
    "\n",
    "\n",
    "print(var_string)\n",
    "print(var_int)\n",
    "print(var_float)\n",
    "print(var_list)\n",
    "print(var_tuple)\n",
    "print(var_dict)"
   ]
  },
  {
   "cell_type": "code",
   "execution_count": 10,
   "id": "1e0aec10",
   "metadata": {},
   "outputs": [
    {
     "name": "stdout",
     "output_type": "stream",
     "text": [
      "Mari Belajar Python\n",
      "10\n",
      "3.14\n",
      "[1, 2, 3, 4]\n",
      "('satu', 'dua', 'tiga')\n",
      "{'nama': 'Ali', 'umur': 20}\n",
      "<class 'str'>\n",
      "<class 'int'>\n",
      "<class 'float'>\n",
      "<class 'list'>\n",
      "<class 'tuple'>\n",
      "<class 'dict'>\n"
     ]
    }
   ],
   "source": [
    "#Jawab Tugas Praktek 3.3 Nomor 2\n",
    "var_string=\"Mari Belajar Python\"\n",
    "var_int=10\n",
    "var_float=3.14\n",
    "var_list=[1,2,3,4]\n",
    "var_tuple=(\"satu\",\"dua\",\"tiga\")\n",
    "var_dict={\"nama\":\"Ali\", 'umur':20}\n",
    "\n",
    "\n",
    "print(var_string)\n",
    "print(var_int)\n",
    "print(var_float)\n",
    "print(var_list)\n",
    "print(var_tuple)\n",
    "print(var_dict)\n",
    "\n",
    "print(type(var_string))\n",
    "print(type(var_int))\n",
    "print(type(var_float))\n",
    "print(type(var_list))\n",
    "print(type(var_tuple))\n",
    "print(type(var_dict))"
   ]
  }
 ],
 "metadata": {
  "kernelspec": {
   "display_name": "Python 3 (ipykernel)",
   "language": "python",
   "name": "python3"
  },
  "language_info": {
   "codemirror_mode": {
    "name": "ipython",
    "version": 3
   },
   "file_extension": ".py",
   "mimetype": "text/x-python",
   "name": "python",
   "nbconvert_exporter": "python",
   "pygments_lexer": "ipython3",
   "version": "3.9.12"
  }
 },
 "nbformat": 4,
 "nbformat_minor": 5
}
